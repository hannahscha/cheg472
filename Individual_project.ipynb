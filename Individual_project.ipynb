{
  "nbformat": 4,
  "nbformat_minor": 0,
  "metadata": {
    "colab": {
      "provenance": [],
      "collapsed_sections": [
        "uXv4h43OL9e2",
        "CAzk3szFofGp",
        "RJzeJS60oW3o",
        "5hzGFoQMXOEc",
        "3niCTtblQoh8",
        "wR8j-7szWIeI",
        "X777bRO0Wttk",
        "032BkvNTpNQN",
        "vp5ISWZtwQkk"
      ],
      "include_colab_link": true
    },
    "kernelspec": {
      "name": "python3",
      "display_name": "Python 3"
    },
    "language_info": {
      "name": "python"
    }
  },
  "cells": [
    {
      "cell_type": "markdown",
      "metadata": {
        "id": "view-in-github",
        "colab_type": "text"
      },
      "source": [
        "<a href=\"https://colab.research.google.com/github/hannahscha/cheg472/blob/main/Individual_project.ipynb\" target=\"_parent\"><img src=\"https://colab.research.google.com/assets/colab-badge.svg\" alt=\"Open In Colab\"/></a>"
      ]
    },
    {
      "cell_type": "markdown",
      "source": [
        "# opening data"
      ],
      "metadata": {
        "id": "uXv4h43OL9e2"
      }
    },
    {
      "cell_type": "code",
      "execution_count": 4,
      "metadata": {
        "colab": {
          "base_uri": "https://localhost:8080/"
        },
        "id": "Z3DRkXiWKd2v",
        "outputId": "00d72299-93fb-4a4e-883a-284763d92f1a"
      },
      "outputs": [
        {
          "output_type": "stream",
          "name": "stdout",
          "text": [
            "Welcome to the Lab Report Generator!\n",
            "Please enter the path to your experimental data set: /content/sample_data/california_housing_test.csv\n",
            "\n",
            "Here are the first few rows of your data:\n",
            "   longitude  latitude  housing_median_age  total_rooms  total_bedrooms  \\\n",
            "0    -122.05     37.37                27.0       3885.0           661.0   \n",
            "1    -118.30     34.26                43.0       1510.0           310.0   \n",
            "2    -117.81     33.78                27.0       3589.0           507.0   \n",
            "3    -118.36     33.82                28.0         67.0            15.0   \n",
            "4    -119.67     36.33                19.0       1241.0           244.0   \n",
            "\n",
            "   population  households  median_income  median_house_value  \n",
            "0      1537.0       606.0         6.6085            344700.0  \n",
            "1       809.0       277.0         3.5990            176500.0  \n",
            "2      1484.0       495.0         5.7934            270500.0  \n",
            "3        49.0        11.0         6.1359            330000.0  \n",
            "4       850.0       237.0         2.9375             81700.0  \n"
          ]
        }
      ],
      "source": [
        "# prompt: welcome user to the lab report generator and ask them to input the path to the experimental data set and print the first few rows\n",
        "\n",
        "import pandas as pd\n",
        "\n",
        "print(\"Welcome to the Lab Report Generator!\")\n",
        "\n",
        "file_path = input(\"Please enter the path to your experimental data set: \")\n",
        "\n",
        "try:\n",
        "  df = pd.read_csv(file_path)\n",
        "  print(\"\\nHere are the first few rows of your data:\")\n",
        "  print(df.head())\n",
        "except FileNotFoundError:\n",
        "  print(\"Error: File not found. Please check the file path and try again.\")\n",
        "except Exception as e:\n",
        "  print(f\"An error occurred: {e}\")"
      ]
    },
    {
      "cell_type": "markdown",
      "source": [
        "# Handling Data"
      ],
      "metadata": {
        "id": "CAzk3szFofGp"
      }
    },
    {
      "cell_type": "markdown",
      "source": [
        "## missing values"
      ],
      "metadata": {
        "id": "NFNbiaY3NtQv"
      }
    },
    {
      "cell_type": "code",
      "source": [
        "# prompt: remove missing values in data after showing user and asking then show again after replacing with mean\n",
        "\n",
        "if input(\"Do you want to handle missing values? (yes/no): \").lower() == 'yes':\n",
        "  print(\"\\nHere's a summary of missing values in your data:\")\n",
        "  print(df.isnull().sum())\n",
        "\n",
        "  if df.isnull().values.any():\n",
        "    print(\"\\nMissing values detected.\")\n",
        "    if input(\"Do you want to remove rows with missing values? (yes/no): \").lower() == 'yes':\n",
        "      df.dropna(inplace=True)\n",
        "      print(\"\\nRows with missing values have been removed.\")\n",
        "      print(\"\\nHere's a summary of missing values after removal:\")\n",
        "      print(df.isnull().sum())\n",
        "\n",
        "    if input(\"Do you want to replace missing values with the mean of their respective columns? (yes/no): \").lower() == 'yes':\n",
        "      for column in df.columns:\n",
        "        if df[column].isnull().any():\n",
        "          df[column].fillna(df[column].mean(), inplace=True)\n",
        "      print(\"\\nMissing values have been replaced with the mean of their respective columns.\")\n",
        "      print(\"\\nHere's a summary of missing values after replacement:\")\n",
        "      print(df.isnull().sum())\n",
        "\n",
        "  else:\n",
        "    print(\"\\nNo missing values detected.\")\n"
      ],
      "metadata": {
        "colab": {
          "base_uri": "https://localhost:8080/"
        },
        "id": "mptHYVazNzGf",
        "outputId": "f3c43c68-1b6e-4df1-f255-f10a88d6706c"
      },
      "execution_count": 5,
      "outputs": [
        {
          "output_type": "stream",
          "name": "stdout",
          "text": [
            "Do you want to handle missing values? (yes/no): yes\n",
            "\n",
            "Here's a summary of missing values in your data:\n",
            "longitude             0\n",
            "latitude              0\n",
            "housing_median_age    0\n",
            "total_rooms           0\n",
            "total_bedrooms        0\n",
            "population            0\n",
            "households            0\n",
            "median_income         0\n",
            "median_house_value    0\n",
            "dtype: int64\n",
            "\n",
            "No missing values detected.\n"
          ]
        }
      ]
    },
    {
      "cell_type": "markdown",
      "source": [
        "## outliers"
      ],
      "metadata": {
        "id": "fsuYPgOMOBI0"
      }
    },
    {
      "cell_type": "code",
      "source": [
        "# prompt: remove outliers in data after listing to user outliers in each column in one list including number of outliers in each column and asking if they want to remove them;  show data statistics before and after removing only outliers in each column\n",
        "\n",
        "if input(\"Do you want to handle outliers? (yes/no): \").lower() == 'yes':\n",
        "  outlier_info = []\n",
        "  for column in df.select_dtypes(include=['number']).columns:\n",
        "    Q1 = df[column].quantile(0.25)\n",
        "    Q3 = df[column].quantile(0.75)\n",
        "    IQR = Q3 - Q1\n",
        "    lower_bound = Q1 - 1.5 * IQR\n",
        "    upper_bound = Q3 + 1.5 * IQR\n",
        "    num_outliers = len(df[(df[column] < lower_bound) | (df[column] > upper_bound)])\n",
        "    if num_outliers > 0:\n",
        "        outlier_info.append((column, num_outliers))\n",
        "\n",
        "  if outlier_info:\n",
        "      print(\"\\nPotential outliers detected in the following columns:\")\n",
        "      for column, num_outliers in outlier_info:\n",
        "          print(f\"- {column}: {num_outliers} outliers\")\n",
        "\n",
        "      if input(\"Do you want to remove outliers? (yes/no): \").lower() == 'yes':\n",
        "          print(\"\\nData statistics before removing outliers:\")\n",
        "          print(df.describe())\n",
        "\n",
        "          for column, _ in outlier_info:\n",
        "              Q1 = df[column].quantile(0.25)\n",
        "              Q3 = df[column].quantile(0.75)\n",
        "              IQR = Q3 - Q1\n",
        "              lower_bound = Q1 - 1.5 * IQR\n",
        "              upper_bound = Q3 + 1.5 * IQR\n",
        "              df = df[(df[column] >= lower_bound) & (df[column] <= upper_bound)]\n",
        "\n",
        "          print(\"\\nData statistics after removing outliers:\")\n",
        "          print(df.describe())\n",
        "      else:\n",
        "          print(\"\\nOutliers will not be removed.\")\n",
        "  else:\n",
        "      print(\"\\nNo potential outliers detected.\")\n"
      ],
      "metadata": {
        "colab": {
          "base_uri": "https://localhost:8080/"
        },
        "id": "EYzRokVWOCdh",
        "outputId": "533e90d6-3ee5-4b41-9d00-5c27ef0cbd30"
      },
      "execution_count": 6,
      "outputs": [
        {
          "output_type": "stream",
          "name": "stdout",
          "text": [
            "Do you want to handle outliers? (yes/no): yes\n",
            "\n",
            "Potential outliers detected in the following columns:\n",
            "- total_rooms: 182 outliers\n",
            "- total_bedrooms: 176 outliers\n",
            "- population: 157 outliers\n",
            "- households: 159 outliers\n",
            "- median_income: 95 outliers\n",
            "- median_house_value: 141 outliers\n",
            "Do you want to remove outliers? (yes/no): yes\n",
            "\n",
            "Data statistics before removing outliers:\n",
            "         longitude    latitude  housing_median_age   total_rooms  \\\n",
            "count  3000.000000  3000.00000         3000.000000   3000.000000   \n",
            "mean   -119.589200    35.63539           28.845333   2599.578667   \n",
            "std       1.994936     2.12967           12.555396   2155.593332   \n",
            "min    -124.180000    32.56000            1.000000      6.000000   \n",
            "25%    -121.810000    33.93000           18.000000   1401.000000   \n",
            "50%    -118.485000    34.27000           29.000000   2106.000000   \n",
            "75%    -118.020000    37.69000           37.000000   3129.000000   \n",
            "max    -114.490000    41.92000           52.000000  30450.000000   \n",
            "\n",
            "       total_bedrooms    population  households  median_income  \\\n",
            "count     3000.000000   3000.000000  3000.00000    3000.000000   \n",
            "mean       529.950667   1402.798667   489.91200       3.807272   \n",
            "std        415.654368   1030.543012   365.42271       1.854512   \n",
            "min          2.000000      5.000000     2.00000       0.499900   \n",
            "25%        291.000000    780.000000   273.00000       2.544000   \n",
            "50%        437.000000   1155.000000   409.50000       3.487150   \n",
            "75%        636.000000   1742.750000   597.25000       4.656475   \n",
            "max       5419.000000  11935.000000  4930.00000      15.000100   \n",
            "\n",
            "       median_house_value  \n",
            "count          3000.00000  \n",
            "mean         205846.27500  \n",
            "std          113119.68747  \n",
            "min           22500.00000  \n",
            "25%          121200.00000  \n",
            "50%          177650.00000  \n",
            "75%          263975.00000  \n",
            "max          500001.00000  \n",
            "\n",
            "Data statistics after removing outliers:\n",
            "         longitude     latitude  housing_median_age  total_rooms  \\\n",
            "count  2491.000000  2491.000000         2491.000000  2491.000000   \n",
            "mean   -119.627921    35.711505           29.849057  2072.279807   \n",
            "std       1.991090     2.161175           12.181480  1061.358896   \n",
            "min    -124.180000    32.560000            1.000000     6.000000   \n",
            "25%    -121.810000    33.940000           20.000000  1304.500000   \n",
            "50%    -118.630000    34.420000           31.000000  1922.000000   \n",
            "75%    -118.050000    37.720000           38.000000  2737.500000   \n",
            "max    -114.490000    41.920000           52.000000  5688.000000   \n",
            "\n",
            "       total_bedrooms   population   households  median_income  \\\n",
            "count     2491.000000  2491.000000  2491.000000    2491.000000   \n",
            "mean       427.556804  1157.807306   400.348454       3.533737   \n",
            "std        206.572881   568.171757   191.273586       1.422006   \n",
            "min          2.000000     5.000000     2.000000       0.536000   \n",
            "25%        277.000000   751.500000   263.000000       2.474050   \n",
            "50%        402.000000  1091.000000   376.000000       3.344700   \n",
            "75%        559.500000  1534.000000   525.000000       4.400000   \n",
            "max       1050.000000  2784.000000   922.000000       7.745000   \n",
            "\n",
            "       median_house_value  \n",
            "count         2491.000000  \n",
            "mean        185193.496588  \n",
            "std          90408.397260  \n",
            "min          22500.000000  \n",
            "25%         112500.000000  \n",
            "50%         170300.000000  \n",
            "75%         240400.000000  \n",
            "max         452600.000000  \n"
          ]
        }
      ]
    },
    {
      "cell_type": "markdown",
      "source": [
        "## one hot encoding"
      ],
      "metadata": {
        "id": "-E_ggIuEPshw"
      }
    },
    {
      "cell_type": "code",
      "source": [
        "# prompt: ask user if they want to use one hot encoding on their data, explain they it converts categorical to numerical for analysis if they need an explaination, if they decide yes one hot encode\n",
        "\n",
        "import pandas as pd\n",
        "\n",
        "if input(\"Do you need an explanation of one-hot encoding? (yes/no): \").lower() == 'yes':\n",
        "  print(\"\\nOne-hot encoding is a process used to convert categorical data (data represented as labels or text) into numerical data that can be used for analysis by machine learning algorithms.\")\n",
        "  print(\"It creates new binary columns for each unique category in the original column, representing whether a specific row belongs to that category or not.\")\n",
        "  print(\"For example, if you have a column 'Color' with categories 'Red', 'Blue', and 'Green', one-hot encoding will create three new columns: 'Color_Red', 'Color_Blue', and 'Color_Green'.\")\n",
        "  print(\"Each row will have a 1 in the column corresponding to its color and 0s in the other columns.\")\n",
        "if input(\"Do you want to use one-hot encoding on your data? (yes/no): \").lower() == 'yes':\n",
        "  categorical_columns = df.select_dtypes(include=['object']).columns\n",
        "  if len(categorical_columns) > 0:\n",
        "    print(f\"\\nThe following columns are categorical and can be one-hot encoded: {', '.join(categorical_columns)}\")\n",
        "    df = pd.get_dummies(df, columns=categorical_columns, dummy_na=False)\n",
        "    print(\"\\nOne-hot encoding has been applied successfully.\")\n",
        "    print(df.head())\n",
        "  else:\n",
        "    print(\"\\nNo categorical columns were found in your data. One-hot encoding is not applicable.\")\n"
      ],
      "metadata": {
        "colab": {
          "base_uri": "https://localhost:8080/"
        },
        "id": "KpQ-Vmp8PvK3",
        "outputId": "3d7d0d80-bb6a-4a61-8646-b381e8430ab0"
      },
      "execution_count": 7,
      "outputs": [
        {
          "output_type": "stream",
          "name": "stdout",
          "text": [
            "Do you need an explanation of one-hot encoding? (yes/no): no\n",
            "Do you want to use one-hot encoding on your data? (yes/no): yes\n",
            "\n",
            "No categorical columns were found in your data. One-hot encoding is not applicable.\n"
          ]
        }
      ]
    },
    {
      "cell_type": "markdown",
      "source": [
        "# calculations"
      ],
      "metadata": {
        "id": "RJzeJS60oW3o"
      }
    },
    {
      "cell_type": "markdown",
      "source": [
        "## conversion rate"
      ],
      "metadata": {
        "id": "1D-8Uv5oL78M"
      }
    },
    {
      "cell_type": "code",
      "source": [
        "# prompt: if user wants to calculate conversion rate in chemistry between two columns the user picks from numbered list of columns, then print the two columns and the calculated column, ask the user columns that represent each variable in the equation\n",
        "\n",
        "if input(\"Do you want to calculate conversion rate? (yes/no): \").lower() == 'yes':\n",
        "  print(\"\\nAvailable columns:\")\n",
        "  for i, col in enumerate(df.columns):\n",
        "    print(f\"{i+1}. {col}\")\n",
        "\n",
        "  while True:\n",
        "    try:\n",
        "      reactant_col_num = int(input(\"Enter the column number representing the initial moles of reactant: \"))\n",
        "      product_col_num = int(input(\"Enter the column number representing the final moles of product: \"))\n",
        "\n",
        "      if 0 <= reactant_col_num < len(df.columns) and 0 <= product_col_num < len(df.columns):\n",
        "        break\n",
        "      else:\n",
        "        print(\"Invalid column number. Please try again.\")\n",
        "    except ValueError:\n",
        "      print(\"Invalid input. Please enter a number.\")\n",
        "\n",
        "  reactant_col = df.columns[reactant_col_num]\n",
        "  product_col = df.columns[product_col_num]\n",
        "\n",
        "  df['Conversion Rate'] = (df[product_col] / df[reactant_col]) * 100\n",
        "\n",
        "  print(f\"\\nHere are the columns {reactant_col}, {product_col} and the calculated Conversion Rate:\")\n",
        "  print(df[[reactant_col, product_col, 'Conversion Rate']])\n"
      ],
      "metadata": {
        "colab": {
          "base_uri": "https://localhost:8080/"
        },
        "id": "519CXRq3K2Im",
        "outputId": "8617a027-c645-44c6-d649-fdae9079ae87"
      },
      "execution_count": 8,
      "outputs": [
        {
          "output_type": "stream",
          "name": "stdout",
          "text": [
            "Do you want to calculate conversion rate? (yes/no): yes\n",
            "\n",
            "Available columns:\n",
            "1. longitude\n",
            "2. latitude\n",
            "3. housing_median_age\n",
            "4. total_rooms\n",
            "5. total_bedrooms\n",
            "6. population\n",
            "7. households\n",
            "8. median_income\n",
            "9. median_house_value\n",
            "Enter the column number representing the initial moles of reactant: 4\n",
            "Enter the column number representing the final moles of product: 5\n",
            "\n",
            "Here are the columns total_bedrooms, population and the calculated Conversion Rate:\n",
            "      total_bedrooms  population  Conversion Rate\n",
            "0              661.0      1537.0       232.526475\n",
            "1              310.0       809.0       260.967742\n",
            "2              507.0      1484.0       292.702170\n",
            "3               15.0        49.0       326.666667\n",
            "4              244.0       850.0       348.360656\n",
            "...              ...         ...              ...\n",
            "2991           718.0       780.0       108.635097\n",
            "2994           181.0       516.0       285.082873\n",
            "2995           642.0      1258.0       195.950156\n",
            "2997           201.0       693.0       344.776119\n",
            "2998            14.0        46.0       328.571429\n",
            "\n",
            "[2491 rows x 3 columns]\n"
          ]
        }
      ]
    },
    {
      "cell_type": "markdown",
      "source": [
        "## reaction efficiency"
      ],
      "metadata": {
        "id": "-fm31pjiMA8C"
      }
    },
    {
      "cell_type": "code",
      "source": [
        "# prompt: if user wants to calculate reaction efficiency in chemistry between two columns the user picks from numbered list of columns, then print the two columns and the calculated column, ask the user columns that represent each variable in the equation\n",
        "\n",
        "if input(\"Do you want to calculate reaction efficiency? (yes/no): \").lower() == 'yes':\n",
        "  print(\"\\nAvailable columns:\")\n",
        "  for i, col in enumerate(df.columns):\n",
        "    print(f\"{i+1}. {col}\")\n",
        "\n",
        "  while True:\n",
        "    try:\n",
        "      theoretical_yield_col_num = int(input(\"Enter the column number representing the theoretical yield: \"))\n",
        "      actual_yield_col_num = int(input(\"Enter the column number representing the actual yield: \"))\n",
        "\n",
        "      if 0 <= theoretical_yield_col_num < len(df.columns) and 0 <= actual_yield_col_num < len(df.columns):\n",
        "        break\n",
        "      else:\n",
        "        print(\"Invalid column number. Please try again.\")\n",
        "    except ValueError:\n",
        "      print(\"Invalid input. Please enter a number.\")\n",
        "\n",
        "  theoretical_yield_col = df.columns[theoretical_yield_col_num]\n",
        "  actual_yield_col = df.columns[actual_yield_col_num]\n",
        "\n",
        "  df['Reaction Efficiency'] = (df[actual_yield_col] / df[theoretical_yield_col]) * 100\n",
        "\n",
        "  print(f\"\\nHere are the columns {theoretical_yield_col}, {actual_yield_col} and the calculated Reaction Efficiency:\")\n",
        "  print(df[[theoretical_yield_col, actual_yield_col, 'Reaction Efficiency']])\n"
      ],
      "metadata": {
        "colab": {
          "base_uri": "https://localhost:8080/"
        },
        "id": "w16OoikIMC0Y",
        "outputId": "d4539d5f-ac55-41cf-d743-b86f6655dada"
      },
      "execution_count": 9,
      "outputs": [
        {
          "output_type": "stream",
          "name": "stdout",
          "text": [
            "Do you want to calculate reaction efficiency? (yes/no): yes\n",
            "\n",
            "Available columns:\n",
            "1. longitude\n",
            "2. latitude\n",
            "3. housing_median_age\n",
            "4. total_rooms\n",
            "5. total_bedrooms\n",
            "6. population\n",
            "7. households\n",
            "8. median_income\n",
            "9. median_house_value\n",
            "10. Conversion Rate\n",
            "Enter the column number representing the theoretical yield: 8\n",
            "Enter the column number representing the actual yield: 3\n",
            "\n",
            "Here are the columns median_house_value, total_rooms and the calculated Reaction Efficiency:\n",
            "      median_house_value  total_rooms  Reaction Efficiency\n",
            "0               344700.0       3885.0             1.127067\n",
            "1               176500.0       1510.0             0.855524\n",
            "2               270500.0       3589.0             1.326802\n",
            "3               330000.0         67.0             0.020303\n",
            "4                81700.0       1241.0             1.518972\n",
            "...                  ...          ...                  ...\n",
            "2991            253800.0       4867.0             1.917652\n",
            "2994            182500.0        931.0             0.510137\n",
            "2995            225000.0       1450.0             0.644444\n",
            "2997             62000.0        956.0             1.541935\n",
            "2998            162500.0         96.0             0.059077\n",
            "\n",
            "[2491 rows x 3 columns]\n"
          ]
        }
      ]
    },
    {
      "cell_type": "markdown",
      "source": [
        "## energy consumption"
      ],
      "metadata": {
        "id": "oGSzJmROMgsk"
      }
    },
    {
      "cell_type": "code",
      "source": [
        "# prompt: if user wants to calculate energy consumption in chemistry between two columns the user picks from numbered list of columns, then print the two columns and the calculated column, ask the user columns that represent each variable in the equation\n",
        "\n",
        "# Energy consumption calculation\n",
        "if input(\"Do you want to calculate energy consumption? (yes/no): \").lower() == 'yes':\n",
        "  print(\"\\nAvailable columns:\")\n",
        "  for i, col in enumerate(df.columns):\n",
        "    print(f\"{i+1}. {col}\")\n",
        "\n",
        "  while True:\n",
        "    try:\n",
        "      energy_input_col_num = int(input(\"Enter the column number representing the energy input: \")) - 1\n",
        "      time_col_num = int(input(\"Enter the column number representing the time: \")) - 1\n",
        "\n",
        "      if 0 <= energy_input_col_num < len(df.columns) and 0 <= time_col_num < len(df.columns):\n",
        "        break\n",
        "      else:\n",
        "        print(\"Invalid column number. Please try again.\")\n",
        "    except ValueError:\n",
        "      print(\"Invalid input. Please enter a number.\")\n",
        "\n",
        "  energy_input_col = df.columns[energy_input_col_num]\n",
        "  time_col = df.columns[time_col_num]\n",
        "\n",
        "  df['Energy Consumption'] = df[energy_input_col] * df[time_col]\n",
        "\n",
        "  print(f\"\\nHere are the columns {energy_input_col}, {time_col} and the calculated Energy Consumption:\")\n",
        "  print(df[[energy_input_col, time_col, 'Energy Consumption']])\n"
      ],
      "metadata": {
        "colab": {
          "base_uri": "https://localhost:8080/"
        },
        "id": "i6bxTnvHMfuK",
        "outputId": "0cab9bf7-c734-4b52-c8c3-7820876b1321"
      },
      "execution_count": 10,
      "outputs": [
        {
          "output_type": "stream",
          "name": "stdout",
          "text": [
            "Do you want to calculate energy consumption? (yes/no): yes\n",
            "\n",
            "Available columns:\n",
            "1. longitude\n",
            "2. latitude\n",
            "3. housing_median_age\n",
            "4. total_rooms\n",
            "5. total_bedrooms\n",
            "6. population\n",
            "7. households\n",
            "8. median_income\n",
            "9. median_house_value\n",
            "10. Conversion Rate\n",
            "11. Reaction Efficiency\n",
            "Enter the column number representing the energy input: 3\n",
            "Enter the column number representing the time: 6\n",
            "\n",
            "Here are the columns housing_median_age, population and the calculated Energy Consumption:\n",
            "      housing_median_age  population  Energy Consumption\n",
            "0                   27.0      1537.0             41499.0\n",
            "1                   43.0       809.0             34787.0\n",
            "2                   27.0      1484.0             40068.0\n",
            "3                   28.0        49.0              1372.0\n",
            "4                   19.0       850.0             16150.0\n",
            "...                  ...         ...                 ...\n",
            "2991                13.0       780.0             10140.0\n",
            "2994                35.0       516.0             18060.0\n",
            "2995                23.0      1258.0             28934.0\n",
            "2997                10.0       693.0              6930.0\n",
            "2998                40.0        46.0              1840.0\n",
            "\n",
            "[2491 rows x 3 columns]\n"
          ]
        }
      ]
    },
    {
      "cell_type": "markdown",
      "source": [
        "# Plotting"
      ],
      "metadata": {
        "id": "5hzGFoQMXOEc"
      }
    },
    {
      "cell_type": "markdown",
      "source": [
        "## box plots"
      ],
      "metadata": {
        "id": "LLpvqgEOTIIA"
      }
    },
    {
      "cell_type": "code",
      "source": [
        "# Initialize an empty list to store the charts\n",
        "charts_to_include = []  # Changed to a list"
      ],
      "metadata": {
        "id": "TahEuPvis9PZ"
      },
      "execution_count": 11,
      "outputs": []
    },
    {
      "cell_type": "code",
      "source": [
        "import matplotlib.pyplot as plt\n",
        "import seaborn as sns  # Import seaborn\n",
        "import io\n",
        "\n",
        "while True:\n",
        "    print(\"\\nAvailable columns for box plots:\")\n",
        "    for i, col in enumerate(df.select_dtypes(include=['number']).columns):\n",
        "        print(f\"{i + 1}. {col}\")\n",
        "\n",
        "    col_num = input(\"Enter the column number to create a box plot (or 'done' to finish): \")\n",
        "\n",
        "    if col_num.lower() == 'done':\n",
        "        break\n",
        "\n",
        "    try:\n",
        "        col_num = int(col_num) - 1\n",
        "        if 0 <= col_num < len(df.select_dtypes(include=['number']).columns):\n",
        "            column_name = df.select_dtypes(include=['number']).columns[col_num]\n",
        "\n",
        "            # Create the box plot\n",
        "            plt.figure(figsize=(6, 4))\n",
        "            sns.boxplot(x=df[column_name])  # Create the box plot\n",
        "            plt.title(f'Box Plot of {column_name}')\n",
        "            plt.tight_layout()  # Adjust layout for better fit\n",
        "\n",
        "            # Save the chart to a BytesIO object\n",
        "            buf_boxplot = io.BytesIO()\n",
        "            plt.savefig(buf_boxplot, format='png')\n",
        "            plt.close()  # Close the plot to free memory\n",
        "            buf_boxplot.seek(0)  # Move to the beginning of the BytesIO buffer\n",
        "\n",
        "            # Append the BytesIO buffer to charts_to_include\n",
        "            charts_to_include.append(buf_boxplot)  # Now append works since it's a list\n",
        "\n",
        "            print(f\"Box plot for {column_name} saved.\")\n",
        "        else:\n",
        "            print(\"Invalid column number. Please try again.\")\n",
        "    except ValueError:\n",
        "        print(\"Invalid input. Please enter a number or 'done'.\")\n"
      ],
      "metadata": {
        "colab": {
          "base_uri": "https://localhost:8080/"
        },
        "id": "haUrt6-zUnww",
        "outputId": "adb0d1d0-acf4-4374-9d10-cff1a28f7da2"
      },
      "execution_count": 12,
      "outputs": [
        {
          "name": "stdout",
          "output_type": "stream",
          "text": [
            "\n",
            "Available columns for box plots:\n",
            "1. longitude\n",
            "2. latitude\n",
            "3. housing_median_age\n",
            "4. total_rooms\n",
            "5. total_bedrooms\n",
            "6. population\n",
            "7. households\n",
            "8. median_income\n",
            "9. median_house_value\n",
            "10. Conversion Rate\n",
            "11. Reaction Efficiency\n",
            "12. Energy Consumption\n",
            "Enter the column number to create a box plot (or 'done' to finish): 3\n",
            "Box plot for housing_median_age saved.\n",
            "\n",
            "Available columns for box plots:\n",
            "1. longitude\n",
            "2. latitude\n",
            "3. housing_median_age\n",
            "4. total_rooms\n",
            "5. total_bedrooms\n",
            "6. population\n",
            "7. households\n",
            "8. median_income\n",
            "9. median_house_value\n",
            "10. Conversion Rate\n",
            "11. Reaction Efficiency\n",
            "12. Energy Consumption\n",
            "Enter the column number to create a box plot (or 'done' to finish): 4\n",
            "Box plot for total_rooms saved.\n",
            "\n",
            "Available columns for box plots:\n",
            "1. longitude\n",
            "2. latitude\n",
            "3. housing_median_age\n",
            "4. total_rooms\n",
            "5. total_bedrooms\n",
            "6. population\n",
            "7. households\n",
            "8. median_income\n",
            "9. median_house_value\n",
            "10. Conversion Rate\n",
            "11. Reaction Efficiency\n",
            "12. Energy Consumption\n",
            "Enter the column number to create a box plot (or 'done' to finish): done\n"
          ]
        }
      ]
    },
    {
      "cell_type": "markdown",
      "source": [
        "## correlation"
      ],
      "metadata": {
        "id": "3niCTtblQoh8"
      }
    },
    {
      "cell_type": "code",
      "source": [
        "import seaborn as sns\n",
        "import io\n",
        "import matplotlib.pyplot as plt\n",
        "\n",
        "# Example of creating a heatmap\n",
        "plt.figure(figsize=(12, 10))\n",
        "sns.heatmap(df.corr(), annot=True, cmap='coolwarm')\n",
        "# Save the chart to a BytesIO object\n",
        "buf_heatmap = io.BytesIO()\n",
        "plt.savefig(buf_heatmap, format='png')\n",
        "buf_heatmap.seek(0)  # Move to the beginning of the BytesIO buffer\n",
        "charts_to_include.append(buf_heatmap)  # Store in the list\n",
        "\n",
        "plt.close()  # Close the plot to free memory\n",
        "print(f\"Heat map saved.\")"
      ],
      "metadata": {
        "id": "hu8XPYCQQqpL",
        "colab": {
          "base_uri": "https://localhost:8080/"
        },
        "outputId": "5dc6e01b-f3a5-4971-8dd8-5e49d7016de7"
      },
      "execution_count": 13,
      "outputs": [
        {
          "output_type": "stream",
          "name": "stdout",
          "text": [
            "Heat map saved.\n"
          ]
        }
      ]
    },
    {
      "cell_type": "markdown",
      "source": [
        "## scatter plot"
      ],
      "metadata": {
        "id": "wR8j-7szWIeI"
      }
    },
    {
      "cell_type": "code",
      "source": [
        "import pandas as pd\n",
        "import io\n",
        "\n",
        "# Assuming df is your DataFrame that contains the data\n",
        "  # List to store charts for the report\n",
        "\n",
        "while True:\n",
        "    print(\"\\nAvailable numerical columns for scatter plots:\")\n",
        "    for i, col in enumerate(df.select_dtypes(include=['number']).columns):\n",
        "        print(f\"{i + 1}. {col}\")\n",
        "\n",
        "    try:\n",
        "        x_col_num = int(input(\"Enter the column number for the x-axis (or 0 to exit): \")) - 1\n",
        "        if x_col_num == -1:\n",
        "            break\n",
        "        if 0 <= x_col_num < len(df.select_dtypes(include=['number']).columns):\n",
        "            x_col = df.columns[x_col_num]\n",
        "            y_col_num = int(input(\"Enter the column number for the y-axis: \")) - 1\n",
        "            if 0 <= y_col_num < len(df.select_dtypes(include=['number']).columns):\n",
        "                y_col = df.columns[y_col_num]\n",
        "\n",
        "                # Create the scatter plot with regression line\n",
        "                plt.figure(figsize=(6, 4))\n",
        "                sns.regplot(x=df[x_col], y=df[y_col])  # Include regression line\n",
        "                plt.title(f\"Scatter Plot: {x_col} vs {y_col}\")\n",
        "                plt.xlabel(x_col)\n",
        "                plt.ylabel(y_col)\n",
        "\n",
        "                # Save the chart to a BytesIO object\n",
        "                buf_scatterplot = io.BytesIO()\n",
        "                plt.savefig(buf_scatterplot, format='png')\n",
        "                buf_scatterplot.seek(0)  # Move to the beginning of the BytesIO buffer\n",
        "                charts_to_include.append(buf_scatterplot)  # Store in the list\n",
        "\n",
        "                plt.close()  # Close the plot to free memory\n",
        "                print(f\"Scatter plot for {x_col} vs {y_col} saved.\")\n",
        "\n",
        "            else:\n",
        "                print(\"Invalid column number for y-axis. Please try again.\")\n",
        "        else:\n",
        "            print(\"Invalid column number for x-axis. Please try again.\")\n",
        "    except ValueError:\n",
        "        print(\"Invalid input. Please enter a number.\")\n"
      ],
      "metadata": {
        "id": "5R3_KMeiWOVG",
        "outputId": "2ed6aa43-f184-44b2-f3d8-42aeee5dc8ef",
        "colab": {
          "base_uri": "https://localhost:8080/"
        }
      },
      "execution_count": 14,
      "outputs": [
        {
          "name": "stdout",
          "output_type": "stream",
          "text": [
            "\n",
            "Available numerical columns for scatter plots:\n",
            "1. longitude\n",
            "2. latitude\n",
            "3. housing_median_age\n",
            "4. total_rooms\n",
            "5. total_bedrooms\n",
            "6. population\n",
            "7. households\n",
            "8. median_income\n",
            "9. median_house_value\n",
            "10. Conversion Rate\n",
            "11. Reaction Efficiency\n",
            "12. Energy Consumption\n",
            "Enter the column number for the x-axis (or 0 to exit): 4\n",
            "Enter the column number for the y-axis: 6\n",
            "Scatter plot for total_rooms vs population saved.\n",
            "\n",
            "Available numerical columns for scatter plots:\n",
            "1. longitude\n",
            "2. latitude\n",
            "3. housing_median_age\n",
            "4. total_rooms\n",
            "5. total_bedrooms\n",
            "6. population\n",
            "7. households\n",
            "8. median_income\n",
            "9. median_house_value\n",
            "10. Conversion Rate\n",
            "11. Reaction Efficiency\n",
            "12. Energy Consumption\n",
            "Enter the column number for the x-axis (or 0 to exit): 0\n"
          ]
        }
      ]
    },
    {
      "cell_type": "markdown",
      "source": [
        "# trying to fix tables"
      ],
      "metadata": {
        "id": "vp5ISWZtwQkk"
      }
    },
    {
      "cell_type": "code",
      "source": [
        "#Install necessary packages\n",
        "\n",
        "!pip install reportlab\n",
        "!pip install pillow\n",
        "\n",
        "from reportlab.lib.pagesizes import letter\n",
        "from reportlab.pdfgen import canvas\n",
        "from reportlab.lib.units import inch\n",
        "from reportlab.lib import colors\n",
        "from reportlab.lib import utils\n",
        "from reportlab.pdfbase import pdfmetrics\n",
        "from reportlab.pdfbase.ttfonts import TTFont\n",
        "from reportlab.platypus import SimpleDocTemplate, Paragraph, Spacer\n",
        "from reportlab.lib.styles import getSampleStyleSheet\n",
        "from PIL import Image\n",
        "import pandas as pd\n",
        "import io\n",
        "import os\n",
        "\n",
        "def wrap_text(text, font, max_width):\n",
        "    \"\"\"Wraps text to fit within the specified width.\"\"\"\n",
        "    words = text.split(' ')\n",
        "    wrapped_lines = []\n",
        "    current_line = \"\"\n",
        "\n",
        "    for word in words:\n",
        "        test_line = f\"{current_line} {word}\".strip()\n",
        "        if pdfmetrics.stringWidth(test_line, font[0], font[1]) <= max_width:\n",
        "            current_line = test_line\n",
        "        else:\n",
        "            wrapped_lines.append(current_line)\n",
        "            current_line = word\n",
        "\n",
        "    if current_line:\n",
        "        wrapped_lines.append(current_line)\n",
        "\n",
        "    return wrapped_lines\n",
        "\n",
        "def create_lab_report_with_calculations(df, charts_to_include, filename=\"lab_report.pdf\"):\n",
        "    \"\"\"Creates a PDF lab report with calculated columns and charts.\"\"\"\n",
        "\n",
        "    if not charts_to_include:\n",
        "        print(\"No charts to include in the report.\")\n",
        "        return\n",
        "\n",
        "    # Create a PDF canvas\n",
        "    c = canvas.Canvas(filename, pagesize=letter)\n",
        "    width, height = letter\n",
        "\n",
        "    # Title\n",
        "    c.setFont(\"Helvetica\", 16)\n",
        "    c.drawString(1 * inch, height - 1 * inch, \"Lab Report\")\n",
        "\n",
        "\n",
        "    # Section: Calculated Columns and Descriptions\n",
        "    y_position = height - 2 * inch\n",
        "    c.setFont(\"Helvetica\", 14)\n",
        "    c.drawString(1 * inch, y_position, \"Calculated Data and Descriptions:\")\n",
        "\n",
        "    y_position -= 0.75 * inch\n",
        "\n",
        "    # List of calculated columns\n",
        "    calculated_cols = [col for col in df.columns if 'Rate' in col or 'Efficiency' in col or 'Consumption' in col]\n",
        "\n",
        "    # Display each column with its description\n",
        "    c.setFont(\"Helvetica\", 12)\n",
        "\n",
        "    for col in calculated_cols:\n",
        "        if 'Consumption' in col:\n",
        "            description = \"Calculated by multiplying energy input by time.\"\n",
        "        elif 'Efficiency' in col:\n",
        "            description = \"Calculated by dividing actual yield by theoretical yield and multiplying by 100.\"\n",
        "        elif 'Rate' in col:\n",
        "            description = \"Calculated by dividing final moles of product by initial moles of reactant and multiplying by 100.\"\n",
        "        else:\n",
        "            description = \"No description available.\"\n",
        "\n",
        "        # Draw the column name and description\n",
        "        c.drawString(1 * inch, y_position, f\"{col}:\")\n",
        "        y_position -= 0.2 * inch  # Move down for the description\n",
        "        wrapped_lines = wrap_text(description, (\"Helvetica\", 12), 6 * inch)  # Ensure wrapping text to fit the page\n",
        "        for line in wrapped_lines:\n",
        "            c.drawString(1 * inch, y_position, line)\n",
        "            y_position -= 0.2 * inch  # Space between lines in description\n",
        "\n",
        "        y_position -= 0.3 * inch  # Extra spacing after description\n",
        "\n",
        "    # Section: Calculated Table Values\n",
        "    c.setFont(\"Helvetica\", 10)\n",
        "    c.drawString(1 * inch, y_position, \"Data Table:\")\n",
        "    y_position -= 0.75 * inch\n",
        "\n",
        "    # Table Header\n",
        "    header_x_positions = [1 * inch + i * 2 * inch for i in range(len(calculated_cols))]\n",
        "\n",
        "    c.setFont(\"Helvetica-Bold\", 12)\n",
        "    for i, col in enumerate(calculated_cols):\n",
        "        c.drawString(header_x_positions[i], y_position, col)\n",
        "\n",
        "    y_position -= 0.5 * inch  # Move below header for table data\n",
        "\n",
        "    # Table Data (values)\n",
        "    c.setFont(\"Helvetica\", 12)\n",
        "    for row_idx in range(len(df)):\n",
        "        if y_position < 1 * inch:  # If not enough space on the page, create a new page\n",
        "            c.showPage()\n",
        "            y_position = height - 1.5 * inch\n",
        "\n",
        "            # Redraw the table headers on the new page\n",
        "            c.setFont(\"Helvetica-Bold\", 12)\n",
        "            for i, col in enumerate(calculated_cols):\n",
        "                c.drawString(header_x_positions[i], y_position, col)\n",
        "            y_position -= 0.5 * inch  # Move below header for table data\n",
        "\n",
        "        # Draw calculated column values for each row\n",
        "        for i, col in enumerate(calculated_cols):\n",
        "            c.setFont(\"Helvetica\", 12)\n",
        "            c.drawString(header_x_positions[i], y_position, str(df[col].iloc[row_idx]))\n",
        "\n",
        "        y_position -= 0.4 * inch  # Space between rows of the table\n",
        "\n",
        "           # Section: Summary Statistics\n",
        "    if y_position < 1 * inch:\n",
        "        c.showPage()\n",
        "        y_position = height - 1.5 * inch\n",
        "\n",
        "    c.setFont(\"Helvetica\", 14)\n",
        "    c.drawString(1 * inch, y_position, \"Summary Statistics:\")\n",
        "\n",
        "    y_position -= 0.5 * inch  # Adjust position for the table\n",
        "\n",
        "    # Define statistics and corresponding labels (excluding count)\n",
        "    statistics_labels = {\n",
        "        'mean': 'Mean',\n",
        "        'std': 'Standard Deviation',\n",
        "        'min': 'Minimum',\n",
        "        '25%': '25th Percentile',\n",
        "        '50%': 'Median (50th Percentile)',\n",
        "        '75%': '75th Percentile',\n",
        "        'max': 'Maximum'\n",
        "    }\n",
        "\n",
        "    summary_stats = df.describe().transpose()  # Transpose for easier handling\n",
        "    stat_table = summary_stats[['mean', 'std', 'min', '25%', '50%', '75%', 'max']]\n",
        "\n",
        "    # Create header for the table\n",
        "    c.setFont(\"Helvetica-Bold\", 12)\n",
        "    header_y_position = y_position\n",
        "\n",
        "    # Draw the second header only\n",
        "    c.drawString(1 * inch, header_y_position, \"Statistic\")\n",
        "    header_x_positions = [2 * inch + i * inch for i in range(len(statistics_labels))]\n",
        "\n",
        "    # Draw the sub-header for statistics\n",
        "    c.setFont(\"Helvetica\", 10)\n",
        "    for i, stat in enumerate(statistics_labels.keys()):\n",
        "        c.drawString(header_x_positions[i], header_y_position + 0.2 * inch, stat)  # Draw statistic names\n",
        "\n",
        "    y_position -= 0.4 * inch  # Move down for data rows\n",
        "\n",
        "    # Draw the statistics table (first half)\n",
        "    c.setFont(\"Helvetica\", 12)\n",
        "    for index, row in stat_table.iterrows():\n",
        "        if y_position < 1 * inch:\n",
        "            c.showPage()\n",
        "            y_position = height - 1.5 * inch\n",
        "\n",
        "        # Draw the statistic name\n",
        "        c.drawString(1 * inch, y_position, str(index))  # Draw statistic name\n",
        "\n",
        "        # Move down for the next row of values\n",
        "        y_position -= 0.2 * inch  # Space between rows\n",
        "\n",
        "        # Draw the values for this statistic\n",
        "        for i, value in enumerate(row):\n",
        "            # Prepare the value for drawing\n",
        "            value_str = f\"{value:.2f}\"  # Format the value to two decimal places\n",
        "            c.drawString(header_x_positions[i], y_position, value_str)\n",
        "\n",
        "        y_position -= 0.4 * inch  # Move to the next statistic\n",
        "\n",
        "    # Check if we can draw the last four statistics, if not, go to a new page\n",
        "    if y_position < 1 * inch:\n",
        "        c.showPage()\n",
        "        y_position = height - 1.5 * inch\n",
        "\n",
        "    # Draw the second half of the statistics table (last four statistics)\n",
        "    for index in stat_table.index[-4:]:  # Get the last four statistics\n",
        "        if y_position < 1 * inch:\n",
        "            c.showPage()\n",
        "            y_position = height - 1.5 * inch\n",
        "\n",
        "        row = stat_table.loc[index]\n",
        "\n",
        "        # Draw the statistic name\n",
        "        c.drawString(1 * inch, y_position, str(index))  # Draw statistic name\n",
        "\n",
        "        # Move down for the next row of values\n",
        "        y_position -= 0.2 * inch  # Space between rows\n",
        "\n",
        "        # Draw the values for this statistic\n",
        "        for i, value in enumerate(row):\n",
        "            # Prepare the value for drawing\n",
        "            value_str = f\"{value:.2f}\"  # Format the value to two decimal places\n",
        "            c.drawString(header_x_positions[i], y_position, value_str)\n",
        "\n",
        "        y_position -= 0.4 * inch  # Move to the next statistic\n",
        "\n",
        "    y_position -= 0.1 * inch  # Small gap between rows\n",
        "\n",
        "    # Section: Highly Correlated Variables\n",
        "    if y_position < 1 * inch:\n",
        "        c.showPage()\n",
        "        y_position = height - 1.5 * inch\n",
        "\n",
        "    c.setFont(\"Helvetica\", 14)\n",
        "    c.drawString(1 * inch, y_position, \"Highly Correlated Variables:\")\n",
        "\n",
        "    y_position -= 0.75 * inch\n",
        "    corr_matrix = df.corr()\n",
        "    for i in range(len(corr_matrix.columns)):\n",
        "        for j in range(i + 1, len(corr_matrix.columns)):\n",
        "            corr_value = corr_matrix.iloc[i, j]\n",
        "            if abs(corr_value) > 0.8:\n",
        "                if y_position < 1 * inch:\n",
        "                    c.showPage()\n",
        "                    y_position = height - 1.5 * inch\n",
        "\n",
        "                col1 = corr_matrix.columns[i]\n",
        "                col2 = corr_matrix.columns[j]\n",
        "                c.setFont(\"Helvetica\", 12)\n",
        "                c.drawString(1 * inch, y_position, f\"{col1} and {col2}: Correlation = {corr_value:.2f}\")\n",
        "                y_position -= 0.4 * inch\n",
        "\n",
        "       # Section: Charts\n",
        "    if y_position < 1 * inch:\n",
        "        c.showPage()\n",
        "        y_position = height - 1.5 * inch\n",
        "\n",
        "    c.setFont(\"Helvetica\", 14)\n",
        "    c.drawString(1 * inch, y_position, \"Charts:\")\n",
        "    y_position -= 0.75 * inch  # Move down for the charts\n",
        "\n",
        "    # Iterate through the charts to include\n",
        "    for i, chart_data in enumerate(charts_to_include):\n",
        "        # Check if there's enough space for the chart\n",
        "        if y_position - 3 * inch < 1 * inch:  # Check if chart would overflow the page\n",
        "            c.showPage()\n",
        "            y_position = height - 1.5 * inch\n",
        "            c.setFont(\"Helvetica\", 14)\n",
        "            c.drawString(1 * inch, y_position, \"Charts:\")\n",
        "            y_position -= 0.75 * inch  # Move down for the charts\n",
        "\n",
        "        # Convert BytesIO to PIL Image and save to temporary file\n",
        "        img = Image.open(chart_data)  # Open the BytesIO object directly\n",
        "        temp_image_path = f\"temp_chart_{i}.png\"\n",
        "        img.save(temp_image_path, format=\"PNG\")  # Save the image as PNG\n",
        "\n",
        "        # Draw the chart using the temporary file path\n",
        "        c.drawImage(temp_image_path, 1 * inch, y_position - 3 * inch, width=6 * inch, height=4 * inch, mask='auto')\n",
        "        y_position -= 4.5 * inch  # Move down for the next chart\n",
        "\n",
        "        # Remove the temporary file\n",
        "        os.remove(temp_image_path)  # Remove temporary files after use\n",
        "\n",
        "\n",
        "    # Save the PDF\n",
        "    c.save()\n",
        "    print(f\"{filename} created successfully.\")\n",
        "\n",
        "# Example usage\n",
        "create_lab_report_with_calculations(df, charts_to_include)\n"
      ],
      "metadata": {
        "colab": {
          "base_uri": "https://localhost:8080/"
        },
        "outputId": "0dafe85c-ac16-48ee-8824-51b786222ef8",
        "id": "UuaFueMVwTYF"
      },
      "execution_count": 15,
      "outputs": [
        {
          "output_type": "stream",
          "name": "stdout",
          "text": [
            "Collecting reportlab\n",
            "  Downloading reportlab-4.2.5-py3-none-any.whl.metadata (1.5 kB)\n",
            "Requirement already satisfied: pillow>=9.0.0 in /usr/local/lib/python3.10/dist-packages (from reportlab) (10.4.0)\n",
            "Requirement already satisfied: chardet in /usr/local/lib/python3.10/dist-packages (from reportlab) (5.2.0)\n",
            "Downloading reportlab-4.2.5-py3-none-any.whl (1.9 MB)\n",
            "\u001b[2K   \u001b[90m━━━━━━━━━━━━━━━━━━━━━━━━━━━━━━━━━━━━━━━━\u001b[0m \u001b[32m1.9/1.9 MB\u001b[0m \u001b[31m23.2 MB/s\u001b[0m eta \u001b[36m0:00:00\u001b[0m\n",
            "\u001b[?25hInstalling collected packages: reportlab\n",
            "Successfully installed reportlab-4.2.5\n",
            "Requirement already satisfied: pillow in /usr/local/lib/python3.10/dist-packages (10.4.0)\n",
            "lab_report.pdf created successfully.\n"
          ]
        }
      ]
    }
  ]
}